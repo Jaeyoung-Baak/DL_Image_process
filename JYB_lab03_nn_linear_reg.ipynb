{
  "nbformat": 4,
  "nbformat_minor": 0,
  "metadata": {
    "colab": {
      "name": "lab03-nn-linear-reg.ipynb",
      "provenance": [],
      "collapsed_sections": []
    },
    "kernelspec": {
      "name": "python3",
      "display_name": "Python 3"
    }
  },
  "cells": [
    {
      "cell_type": "markdown",
      "metadata": {
        "id": "dpLdkiC81rw_"
      },
      "source": [
        "# Lab 3 – First Neural Network\n",
        "- Work on saved a copy on your Drive, name your file appropriately, e.g. `GN-lab03.ipynb` (Korean students, please put the initial of your **family name first** because that's how you appear in the register, e.g. Kim Gyeong Min should be `KGM`)\n",
        "- Run ALL the code cells and answer the questions (code or text) before submitting the notebook. Code cell output should be visible in your submission.\n",
        "- Save your notebook (`Ctrl+S`) before downloading and submitting on iCampus. ONLY ipynb files will be accepted.\n",
        "\n",
        "## A. Implementing a basic \"forward\" pass\n",
        "Try to visualise what each neural network model looks like in terms of neurons, weights and biases.\n"
      ]
    },
    {
      "cell_type": "code",
      "metadata": {
        "id": "Xakn64iC_F1r"
      },
      "source": [
        "import sys\n",
        "import matplotlib as plt\n",
        "import numpy as np\n",
        "import torch\n"
      ],
      "execution_count": null,
      "outputs": []
    },
    {
      "cell_type": "markdown",
      "metadata": {
        "id": "iWvkX4ap2WfO"
      },
      "source": [
        "## The Perceptron (Single Neuron)\n",
        "- Every non-input NEURON has a bias, not every weight, so the bias is added for a single output neuron\n",
        "- 1 output neuron with 3 inputs"
      ]
    },
    {
      "cell_type": "code",
      "metadata": {
        "id": "rq_kLhOr_QqD"
      },
      "source": [
        "# Initialise some values\n",
        "input = [0.8, 1.3, 2.5]\n",
        "weights = [2.5, 1.7, -0.5]\n",
        "bias = 2\n",
        "\n",
        "# Get the weigthed sum of the inputs and add the bias\n",
        "output = input[0]*weights[0] + input[1]*weights[1] + input[2]*weights[2] + bias\n",
        "print(output)\n",
        "\n",
        "# Add a step function; output is 1 if it is 0 or more, 0 otherwise\n",
        "output = 1 if output >= 0 else 0\n",
        "\n",
        "# Print perceptron's final output\n",
        "print(f'Final perceptron output = {output}') \n",
        "\n",
        "# TODO\n",
        "# Q1. Think of a ML problem or task where a neural network would have a final output to be 0 or 1.\n"
      ],
      "execution_count": null,
      "outputs": []
    },
    {
      "cell_type": "markdown",
      "metadata": {
        "id": "7w-UJYm5MTsZ"
      },
      "source": [
        "### Example 2: Multiple neurons\n",
        "- Each neuron will have its own WEIGHT associated to each input\n",
        "- As before, each NEURON will have its own BIAS"
      ]
    },
    {
      "cell_type": "code",
      "metadata": {
        "id": "Zxqlna_eMqpj"
      },
      "source": [
        "#inputs = [0.8, 1.3, 2.5, 2.0] # A sample of 4 features, e.g. temperature, humidity, wind, pressure\n",
        "\n",
        "input = [0.8, 1.3, 2.5, 2.0]\n",
        "\n",
        "weights1 = [2.5, 1.7, -0.5, 1.0]\n",
        "weights2 = [0.5, -0.91, 0.26, -0.5]\n",
        "weights3 = [-0.26, -0.27, 0.17, 0.87]\n",
        "\n",
        "bias1 = 2\n",
        "bias2 = 3\n",
        "bias3 = 0.5\n",
        "\n",
        "output = [input[0]*weights1[0] + input[1]*weights1[1] + input[2]*weights1[2] + input[3]*weights1[3] + bias1,\n",
        "          input[0]*weights2[0] + input[1]*weights2[1] + input[2]*weights2[2] + input[3]*weights2[3] + bias2,\n",
        "          input[0]*weights3[0] + input[1]*weights3[1] + input[2]*weights3[2] + input[3]*weights3[3] + bias3]\n",
        "\n",
        "print(output)\n",
        "\n",
        "# TODO\n",
        "# Q2. How many output neurons does this network contain?\n"
      ],
      "execution_count": null,
      "outputs": []
    },
    {
      "cell_type": "markdown",
      "metadata": {
        "id": "T9KdBdw1PzAO"
      },
      "source": [
        "### Use Loops and Matrices!\n",
        "\n",
        "\n"
      ]
    },
    {
      "cell_type": "code",
      "metadata": {
        "id": "cDrkbsgzQtPZ"
      },
      "source": [
        "inputs = [0.8, 1.3, 2.5, 2.0]\n",
        "\n",
        "weights = [[2.5, 1.7, -0.5, 1.0], \n",
        "           [0.5, -0.91, 0.26, -0.5],\n",
        "           [-0.26, -0.27, 0.17, 0.87]]\n",
        "\n",
        "biases = [2, 3, 0.5]\n",
        "\n",
        "layer_outputs = [] # Outputs of current layer\n",
        "for weight, bias in zip(weights, biases):\n",
        "    output = 0 # Reset current neuron output to 0\n",
        "    for input, w in zip(inputs, weight):\n",
        "        output += input*w\n",
        "    output += bias\n",
        "    layer_outputs.append(output)\n",
        "\n",
        "print(zip(weights, biases))\n",
        "print(layer_outputs)"
      ],
      "execution_count": null,
      "outputs": []
    },
    {
      "cell_type": "markdown",
      "metadata": {
        "id": "ikyggUJxXtPr"
      },
      "source": [
        "## Let's use NumPy & Dot Products!\n",
        "- Multiply elements wise the corresponding values in two arrays and add them up\n",
        "- Dot product between two vectors results in a single scalar value\n"
      ]
    },
    {
      "cell_type": "code",
      "metadata": {
        "id": "MJekSFlcXwM8"
      },
      "source": [
        "import numpy as np\n",
        "\n",
        "inputs = np.array([0.8, 1.3, 2.5, 2.0])\n",
        "weights = np.array([2.5, 1.7, -0.5, 1.0])\n",
        "bias = 2\n",
        "\n",
        "output = np.dot(weights, inputs) + bias\n",
        "print(output)"
      ],
      "execution_count": null,
      "outputs": []
    },
    {
      "cell_type": "markdown",
      "metadata": {
        "id": "D2L-U4yRaCXu"
      },
      "source": [
        "When performing a dot product between a vector (input) and a matrix (weights)\n",
        "  - Weights have to be first parameter of ``np.dot()``, otherwise an error will be thrown\n",
        "  - Column size of ``weights`` = row size of ``inputs``\n"
      ]
    },
    {
      "cell_type": "code",
      "metadata": {
        "id": "r9AoCO93aL6B"
      },
      "source": [
        "inputs = np.array([0.8, 1.3, 2.5, 2.0])\n",
        "\n",
        "weights = np.array([[2.5, 1.7, -0.5, 1.0], \n",
        "           [0.5, -0.91, 0.26, -0.5],\n",
        "           [-0.26, -0.27, 0.17, 0.87]])\n",
        "\n",
        "biases = np.array([2, 3, 0.5])\n",
        "\n",
        "output = np.dot(weights, inputs) + biases # dot product of a vector and a matrix\n",
        "\n",
        "print(output)\n",
        "\n",
        "# TODO\n",
        "# Q3. What else can we do to perform the dot product between the inputs and weights?\n"
      ],
      "execution_count": null,
      "outputs": []
    },
    {
      "cell_type": "markdown",
      "metadata": {
        "id": "mTxtXoYEb0ea"
      },
      "source": [
        "## Summary\n",
        "- Weights and biases are two different tools for approximating something (e.g. an output from an input)\n",
        "- Weights determine how much influence this input has for the output (as it is multiplied) and bias determines how much this output can be offset by the input (as it is added)\n",
        "- Think of a classical equation for a line ``y = wx + b`` where ``w`` is the weight and ``b`` is a the bias"
      ]
    },
    {
      "cell_type": "markdown",
      "metadata": {
        "id": "qiPxh-XmJqPT"
      },
      "source": [
        "## Dot product between two 2-D arrays (two matrices)\n",
        "- Numpy's ``np.dot()`` is flexible; it computes the inner product for 1D arrays and performs matrix multiplication for 2D arrays.\n",
        "- Since both matrices have the same size, transpose the second matrix, i.e. ``weights`` here so that ``1st-col-size=2nd-row-size`` holds \n"
      ]
    },
    {
      "cell_type": "code",
      "metadata": {
        "id": "PhGET9UWKoIL"
      },
      "source": [
        "# inputs 3x4\n",
        "inputs = np.array([[0.8, 1.3, 2.5, 2.0],\n",
        "          [2.3, 1.5, 3.8, 4.5],\n",
        "          [-1.5, 2.7, 3.3, -0.8]])\n",
        "\n",
        "# weights 3x4\n",
        "weights = np.array([[2.5, 1.7, -0.5, 1.0], \n",
        "           [0.5, -0.91, 0.26, -0.5],\n",
        "           [-0.26, -0.27, 0.17, 0.87]])\n",
        "\n",
        "biases = np.array([2, 3, 0.5])\n",
        "\n",
        "output = np.dot(inputs, weights.T) + biases\n",
        "\n",
        "print(f'{output} \\n{output.shape}')\n",
        "\n",
        "# TODO\n",
        "# Q4. Explain what it means to have a 2-D array for the input and also for the output\n"
      ],
      "execution_count": null,
      "outputs": []
    },
    {
      "cell_type": "markdown",
      "metadata": {
        "id": "HJCjLVN4ZrL8"
      },
      "source": [
        "## Let's use Tensors!\n",
        "- ``torch.dot()`` behaves differently to ``np.dot()`` \n",
        "- ``torch.dot(a,b)`` treats both ``a`` and ``b`` as 1D vectors (irrespective of their original shape) and computes their inner product.\n",
        "- Several ways to do matrix (rank 2 tensor) multiplication:\n",
        "  - ``ab = a.mm(b)``\n",
        "  - ``ab = torch.mm(a, b)``\n",
        "  - ``ab = torch.matmul(a, b)``\n",
        "  - ``ab = a @ b # Python 3.5+``\n",
        "- The number of columns of the first matrix must be equal to the number of rows of the second matrix.\n",
        "- The function ``torch.matmul()`` performs matrix multiplications if both arguments are 2D and computes their dot product if both arguments are 1D.\n"
      ]
    },
    {
      "cell_type": "code",
      "metadata": {
        "id": "8qlNIDiPxSrF"
      },
      "source": [
        "# 1-D tensor dot product\n",
        "a = torch.tensor([1, 2])\n",
        "b = torch.tensor([3, 2])\n",
        "\n",
        "torch.dot(a, b)"
      ],
      "execution_count": null,
      "outputs": []
    },
    {
      "cell_type": "code",
      "metadata": {
        "id": "puj-YybH0E6g"
      },
      "source": [
        "# 2-D tensor dot product for matrices with matching column and row size\n",
        "a = torch.tensor([\n",
        "    [0, 1, 2],\n",
        "    [1, 2, 3]\n",
        "])\n",
        "\n",
        "b = torch.tensor([\n",
        "    [0, 1],\n",
        "    [1, 1],\n",
        "    [1, 3]\n",
        "])\n",
        "\n",
        "torch.mm(a,b)\n"
      ],
      "execution_count": null,
      "outputs": []
    },
    {
      "cell_type": "markdown",
      "metadata": {
        "id": "WwHbk4uPA6gw"
      },
      "source": [
        "### Dot product between two 2-D tensors from the example"
      ]
    },
    {
      "cell_type": "code",
      "metadata": {
        "id": "JoK1kTu_Zu7K"
      },
      "source": [
        "input = torch.tensor(inputs)\n",
        "weight = torch.tensor(weights)\n",
        "bias = torch.tensor(biases)\n",
        "\n",
        "output = torch.matmul(input, torch.transpose(weight, 0, 1)) + bias\n",
        "\n",
        "print(output, output.shape)\n",
        "\n",
        "# TODO\n",
        "# Q5. repeat using the @ operator. You should get the same output\n"
      ],
      "execution_count": null,
      "outputs": []
    },
    {
      "cell_type": "markdown",
      "metadata": {
        "id": "5jBRPHQKG3lt"
      },
      "source": [
        "### Exercise: Write your own code using TENSORS to implement a neural network as follows:\n",
        "- Has 5 input neurons made up of random numbers between 0 and 1\n",
        "- Connects to two output neurons\n",
        "- Weights and biases should be random numbers between a normal distribution. Use `torch.randn()`\n",
        "- The final outputs should be a combination of the weighted sum followed by an activation function as follows:\n",
        "  - If the weighted sum is negative, then the output is 0\n",
        "  - Otherwise the output is just the weighted sum\n"
      ]
    },
    {
      "cell_type": "code",
      "metadata": {
        "id": "dvDjJncONJpx"
      },
      "source": [
        "# Q6. Has 5 input neurons made up of random numbers between 0 and 1. Use torch.rand()\n",
        "\n",
        "# Q7. Weights should be random numbers between a normal distribution. Use torch.randn()\n",
        "\n",
        "# Q8. Biases should be random numbers between a normal distribution. Use torch.randn()\n",
        "\n",
        "# Q9. The outputs should be a combination of the weighted sum of the inputs followed by an activation given below in 10.\n",
        "\n",
        "# Q10. If the weighted sum is negative, then the output is 0, otherwise the output is just the weighted sum\n",
        "\n",
        "# Print out the final output values"
      ],
      "execution_count": null,
      "outputs": []
    },
    {
      "cell_type": "markdown",
      "metadata": {
        "id": "0KvsIo2UfwO3"
      },
      "source": [
        "## B. Build NN Model using ``torch.nn.Module``\n",
        "- Create a subclass of nn.Module\n",
        "- Define layers and activations\n",
        "- Do a forward pass to inspect the model, parameters and outputs\n",
        "- Add loss, optimiser and training loop for linear regression"
      ]
    },
    {
      "cell_type": "code",
      "metadata": {
        "id": "RuZwA3o9ZWZz"
      },
      "source": [
        "import torch\n",
        "\n",
        "import torch.nn as nn\n",
        "\n",
        "class TinyModel(nn.Module): # TinyModel is a subclass of nn.Module\n",
        "    \n",
        "    def __init__(self):\n",
        "        super(TinyModel, self).__init__()\n",
        "        super().__init__()\n",
        "        self.linear1 = nn.Linear(100, 200) # input_size and hidden_size\n",
        "        self.activation = nn.ReLU() # Rectified Linear Unit activation function\n",
        "        self.linear2 = nn.Linear(200, 10) # hidden layer and output layer size\n",
        "        self.softmax = nn.Softmax() # output layer activation function\n",
        "    \n",
        "    def forward(self, x):\n",
        "        out = self.linear1(x)\n",
        "        out = self.activation(out)\n",
        "        out = self.linear2(out)\n",
        "        out = self.softmax(out)\n",
        "        return out\n",
        "\n",
        "# Create an instance of TinyModel (like initalising a variable)\n",
        "tinymodel = TinyModel()\n",
        "\n",
        "# See what this model contains\n",
        "print('The model:')\n",
        "print(tinymodel)\n",
        "\n",
        "# Print out one of the layers\n",
        "print('\\n\\nJust one layer:')\n",
        "print(tinymodel.linear2)\n",
        "\n",
        "# View ALL the parameters (weights and biases)\n",
        "# print('\\n\\nModel params:')\n",
        "# for param in tinymodel.parameters():\n",
        "#     print(param)\n",
        "\n",
        "# View the parameters (weights and biases) in the LAST layer (linear2) only\n",
        "print('\\n\\nLinear2 layer params:')\n",
        "for param in tinymodel.linear2.parameters():\n",
        "    print(param)"
      ],
      "execution_count": null,
      "outputs": []
    },
    {
      "cell_type": "markdown",
      "metadata": {
        "id": "RcjYoJIAAD8-"
      },
      "source": [
        "### Linear layer demo\n",
        "\n",
        "For the code chunk below, note that:\n",
        "- the weight, bias and output tensor dimensions are as expected (weight matrix is in transposed form, i.e. has shape (out_features, in_features)\n",
        "- the multiplication of the inputs with the weight matrices, added with the bias will produce the output"
      ]
    },
    {
      "cell_type": "code",
      "metadata": {
        "id": "j6RhRO_CZWZ1"
      },
      "source": [
        "# Create a linear layer with 3 inputs and 2 outputs\n",
        "lin = torch.nn.Linear(3, 2)\n",
        "# Create sample input vector with random values\n",
        "x = torch.rand(1, 3)\n",
        "print('Input:')\n",
        "print(x)\n",
        "\n",
        "# Print the initial parameter values (these are also randomly set)\n",
        "print('\\n\\nWeight and Bias parameters:')\n",
        "for param in lin.parameters():\n",
        "    print(param)\n",
        "\n",
        "# Apply the linear layer to the input\n",
        "y = lin(x)\n",
        "print('\\n\\nOutput:')\n",
        "print(y)\n"
      ],
      "execution_count": null,
      "outputs": []
    },
    {
      "cell_type": "markdown",
      "metadata": {
        "id": "7rX90VHvC0kZ"
      },
      "source": [
        "- Note that you see ``requires_grad`` for the parameters. This means that their values will be tracked and used for **gradient** calculation during the training phase.\n",
        "- Although ``Parameter`` is a subclass of ``Tensor``, it has a special extended behaviour in that its gradients can be tracked for NN learning purposes.\n"
      ]
    },
    {
      "cell_type": "markdown",
      "metadata": {
        "id": "pSMHg7NXqUcp"
      },
      "source": [
        "### Add Training Loop, Loss and Optimiser\n",
        "- A loop is necessary to allow NN training to happen iteratively.\n",
        "- The number of times we want to repeat the cycle is called number of epochs.\n",
        "- Loss functions tell us how far a model's prediction is from the correct answer. PyTorch contains a variety of loss functions, including common MSE (mean squared error = L2 norm), Cross Entropy Loss and Negative Likelihood Loss (useful for classifiers), and others.\n",
        "- An optimiser helps to minimise the loss by taking iterative steps in the direction that minimises the loss by updating the parameters in each epoch. We will use Stochastic Gradient Descent (SGD) for this example.\n",
        "\n",
        "\n",
        "## Example: Linear Regression\n",
        "1. Provide training data. We will provide the inputs, ``x`` and outputs, ``y`` for the formula ``y = 3x + 2``. \n",
        "  - Remember to provide them as tensors. \n",
        "  - Note that ``y`` will have to be correct values that satisfy the formula.\n",
        "2. Define the NN class. \n",
        "  - Since we will only take in a number and also spit out a number, we will have the ``input_size`` to be 1 and the ``output_size`` to be 1 as well. \n",
        "  - For linear regression, the output will be a real value, so no output layer activation function is needed.\n",
        "  - Note also that an extra parameter ``hidden_size`` was added to the initialiser\n",
        "3. Create an instance of the NN class\n",
        "  - Pass in the required parameter ``hidden_size``\n",
        "4. Define Loss and Optimiser\n",
        "  - for this linear regression problem, we will use the MSE Loss and SGD optimiser\n",
        "5. Training Loop\n",
        "  - Loop through a set number of times, e.g. 100\n",
        "    - forward pass to calculate the predicted values for each input sample and calculate the loss using the loss instance you created earlier\n",
        "    - backward pass to first reset all the gradients ``opt.zero_grad()``, then to calculate the gradients of the loss w.r.t. the params ``loss.backward()`` and finally update the params accordingly ``opt.step()``\n",
        "\n",
        "6. Test the model\n",
        "  - At this point, the model has been trained, i.e. the parameters have been optimised and the loss should be small enough.\n",
        "  - Call ``model()`` with any new number to test what the trained model will predict. See how accurately it performs.\n",
        "  - Test with several other numbers.\n",
        "\n",
        "### NOTES:\n",
        "- Data will need to be prepared so that it can be used with PyTorch. Here we have specified the data as a tensor and also made sure that it is of type float. \n",
        "- It is good practice to specify hyper parameters separately, e.g. ``hidden_size``, ``learning_rate``, ``num_epochs``, etc.\n"
      ]
    },
    {
      "cell_type": "code",
      "metadata": {
        "id": "MdiTwoHS93b3"
      },
      "source": [
        "import torch\n",
        "\n",
        "import torch.nn as nn\n",
        "\n",
        "\n",
        "# 1. Define training data for a simple mathematical formula y = 3x + 2 for x=1, ..., 5\n",
        "x = torch.tensor([[1],[2],[3],[4],[5]], dtype=torch.float32)\n",
        "y = torch.tensor([[5],[8],[11],[14],[17]], dtype=torch.float32)\n",
        "\n",
        "# 2. Define NN class \n",
        "class MyNN(nn.Module): # TinyModel is a subclass of nn.Module\n",
        "    \n",
        "    def __init__(self, hidden_size):\n",
        "        super().__init__()\n",
        "        self.linear1 = nn.Linear(1, hidden_size) # input_size and hidden_size\n",
        "        self.activation = nn.ReLU() # Rectified Linear Unit activation function\n",
        "        self.linear2 = nn.Linear(hidden_size, 1) # hidden layer and output layer size\n",
        "        # output layer is a real value for regression, does not need any activation\n",
        "    \n",
        "    def forward(self, x):\n",
        "        x = self.linear1(x)\n",
        "        x = self.activation(x)\n",
        "        x = self.linear2(x)\n",
        "        return x\n",
        "\n",
        "# 3. Create an instance of NN model and define the hidden_size\n",
        "hidden_size = 4\n",
        "model = MyNN(hidden_size) # now 'model' will be a callable function\n",
        "\n",
        "# 4. Loss and Optimiser\n",
        "learning_rate = 0.01\n",
        "loss_fn = nn.MSELoss() # now 'loss_fn' will be a callable function\n",
        "opt = torch.optim.SGD(model.parameters(), lr=learning_rate)\n",
        "\n",
        "# 5. Training loop\n",
        "num_epochs = 100\n",
        "\n",
        "for epoch in range(num_epochs):\n",
        "  # 5.1 Forward pass\n",
        "  y_pred = model(x)\n",
        "  loss = loss_fn(y_pred, y) \n",
        "\n",
        "  # 5.2 Backward pass\n",
        "  opt.zero_grad() # Reset gradients at each epoch\n",
        "  loss.backward() # Backpropagate the loss gradients w.r.t the params\n",
        "  opt.step() # Update params\n",
        "\n",
        "  # 5.3 Print loss every 10th epoch\n",
        "  if (epoch+1) % 10 == 0:\n",
        "    print(f'Epoch {epoch+1}/{num_epochs}, Loss={loss.item():.4f} ')\n"
      ],
      "execution_count": null,
      "outputs": []
    },
    {
      "cell_type": "code",
      "metadata": {
        "id": "zatxfhYejeB8"
      },
      "source": [
        "# 6. Prediction\n",
        "# Test the model on any new x\n",
        "test_num = 10\n",
        "test = torch.tensor([test_num], dtype=torch.float32)\n",
        "\n",
        "# Get the model's prediction for this test number\n",
        "print(f'\\n\\nModel prediction for {test_num} is {model(test).item():.4f}')"
      ],
      "execution_count": null,
      "outputs": []
    },
    {
      "cell_type": "code",
      "metadata": {
        "id": "RvmHgY1oDLiB"
      },
      "source": [
        "# TODO\n",
        "# Q11. Did the loss decrease over time during training?\n",
        "\n",
        "# Q12. Was the prediction of the model for x=10 close to the ideal value that it should have?\n",
        "\n",
        "# Q13. Change the num_epochs to 200 and retrain the model. Is the prediction for x=10 better? Why?\n",
        "\n",
        "# Q14. Set num_epoch=100 and change the hidden_size to 8. Retrain the model. Is the model's performance better?\n",
        "\n",
        "# Q15. Try increasing or decreasing num_epoch and/or hidden_size to see which combination gives you the best model. \n",
        "# Keep the output of your code execution above for the best combination and state which combination of num_epoch \n",
        "# and hidden_size values gave you the best model.\n"
      ],
      "execution_count": null,
      "outputs": []
    },
    {
      "cell_type": "markdown",
      "metadata": {
        "id": "oj6pLZXIX3Q_"
      },
      "source": [
        "### Let's plot the landscape of the MSE loss over a range of values for weight\n",
        "- The sample training data has function ``y=3x+2``. However, this relationship is **NOT** known by the model. We only have ``x``'s and ``y``'s.\n",
        "- So we try different values of weight, ``w``, between -1 and 5 to fit the equation ``y = wx + 2``\n",
        "- When we do that, we calculate the MSE loss between the predicted outcome, ``pred`` and the actual outcome, ``y`` for each ``w`` that we use.\n",
        "- The loss that occurred for each weight is plotted and connected."
      ]
    },
    {
      "cell_type": "code",
      "metadata": {
        "id": "-GM_vu-urCfd"
      },
      "source": [
        "import numpy as np\n",
        "import matplotlib.pyplot as plt\n",
        "\n",
        "# Create a range of values from -1 to 5\n",
        "w_range = np.linspace(-1, 5, 1000)\n",
        "loss_w_range = [] # create an empty list to store the loss values\n",
        "\n",
        "# Try different weight values to get predictions for y\n",
        "for w in w_range:\n",
        "    pred = (w * x) + 2\n",
        "    loss = torch.mean((pred - y) ** 2)\n",
        "    loss_w_range.append(loss.item())\n",
        "\n",
        "# Plot the graph\n",
        "plt.title(\"Loss Over Different Weight Values for the Linear Function y=3x+2\")\n",
        "plt.plot(w_range, loss_w_range)\n",
        "plt.xlabel('Weight, w')\n",
        "plt.ylabel('MSE Loss')\n",
        "plt.show()\n"
      ],
      "execution_count": null,
      "outputs": []
    },
    {
      "cell_type": "code",
      "metadata": {
        "id": "qdbsu201V2lU"
      },
      "source": [
        "# Q16. From the graph, what value of weight gives the minimum loss for this linear function?\n"
      ],
      "execution_count": null,
      "outputs": []
    }
  ]
}