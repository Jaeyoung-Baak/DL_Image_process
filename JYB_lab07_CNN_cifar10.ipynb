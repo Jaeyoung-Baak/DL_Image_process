{
  "nbformat": 4,
  "nbformat_minor": 0,
  "metadata": {
    "colab": {
      "name": "PJY_lab07_CNN_cifar10.ipynb",
      "provenance": [],
      "collapsed_sections": []
    },
    "kernelspec": {
      "name": "python3",
      "display_name": "Python 3"
    },
    "language_info": {
      "name": "python"
    },
    "accelerator": "GPU"
  },
  "cells": [
    {
      "cell_type": "markdown",
      "metadata": {
        "id": "D3dotnhNCKsl"
      },
      "source": [
        "## Lab 7 (Image Processing using Convolutional Neural Networks)\n",
        "- CIFAR10 dataset (see https://www.cs.toronto.edu/~kriz/cifar.html for more info)\n",
        "- 60K images: 50K train, 10K test\n",
        "- 10 classes: 'plane', 'car', 'bird', 'cat', 'deer', 'dog', 'frog', 'horse', 'ship', 'truck'\n",
        "- Perform multi-class classification with evaluation accuracy on EACH class\n",
        "\n",
        "**CONNECT TO GPU** before continuing, but just CPU is also fine, it might be a bit slow.\n"
      ]
    },
    {
      "cell_type": "code",
      "metadata": {
        "id": "nQ8bPH1OCM5h",
        "colab": {
          "base_uri": "https://localhost:8080/"
        },
        "outputId": "0e7563db-cf53-4683-abd8-8680ee77799e"
      },
      "source": [
        "import torch\n",
        "import torch.nn as nn\n",
        "import torch.nn.functional as F\n",
        "import torchvision\n",
        "import torchvision.transforms as transforms\n",
        "import matplotlib.pyplot as plt\n",
        "import numpy as np\n",
        "\n",
        "# Device configuration\n",
        "device = torch.device('cuda' if torch.cuda.is_available() else 'cpu')\n",
        "print(device)\n",
        "\n",
        "# Hyper parameters\n",
        "num_epochs = 4\n",
        "batch_size = 4\n",
        "learning_rate = 0.001\n",
        "\n",
        "# Download and prepare dataset\n",
        "# Transform them to tensors and normalise them / normalize: image = (image - mean)/std / (mean1,mean2,mean3), (std1,std2,std3) for each channel.\n",
        "transform = transforms.Compose(\n",
        "    [transforms.ToTensor(),\n",
        "     transforms.Normalize((0.5, 0.5, 0.5), (0.5, 0.5, 0.5))\n",
        "     ])\n",
        "\n",
        "# 2.2 Download data\n",
        "train_set = torchvision.datasets.CIFAR10(\"./\", train=True, download=True, transform=transform)\n",
        "test_set = torchvision.datasets.CIFAR10(\"./\", train=False, download=True, transform=transform)\n",
        "\n",
        "# 2.3 Use DataLoader to get batches and shuffle\n",
        "train_loader = torch.utils.data.DataLoader(train_set, batch_size=batch_size, shuffle=True)\n",
        "test_loader = torch.utils.data.DataLoader(test_set, batch_size=batch_size, shuffle=False)\n",
        "\n",
        "classes = ('plane', 'car', 'bird', 'cat', 'deer', 'dog', 'frog', 'horse', 'ship', 'truck')\n",
        "\n",
        "# Q1. Why are there 3 values in each list of the Normalize() function? What does each value and each list represent?\n",
        "# The three values in each list of the Normalize() function correspond to the mean and standard deviation for the three color channels (Red, Green, Blue) in a colored image.\n",
        "# The first three values represent the mean of each channel, ch1_mean, ch2_mean, ch3_mean and the next three values represent the standard deviation of each channel, ch1_std, ch2_std, ch3_std"
      ],
      "execution_count": 23,
      "outputs": [
        {
          "output_type": "stream",
          "name": "stdout",
          "text": [
            "cuda\n",
            "Files already downloaded and verified\n",
            "Files already downloaded and verified\n"
          ]
        }
      ]
    },
    {
      "cell_type": "markdown",
      "metadata": {
        "id": "DuhDiijV7CNT"
      },
      "source": [
        "### Inspect the Images"
      ]
    },
    {
      "cell_type": "code",
      "metadata": {
        "id": "032BETSy6a2K",
        "colab": {
          "base_uri": "https://localhost:8080/"
        },
        "outputId": "11b68355-c510-4c99-d558-e51f9ab3ee0f"
      },
      "source": [
        "# Access the first data sample in the train_set using next(iter())\n",
        "batch = next(iter(train_loader))\n",
        "print(f'Image values: \\n{batch}')\n",
        "print(f'Length: {len(batch)}')\n",
        "print(f'Type: {type(batch)}')\n",
        "\n",
        "# This means the data contains image-label pairs\n",
        "# Unpack them\n",
        "images, labels = batch\n",
        "# Same as these two lines:\n",
        "# image = batch[0]\n",
        "# label = batch[1]\n",
        "\n",
        "\n",
        "print(f'Images shape: {images.shape}')\n",
        "print(f'Lables: {labels}')\n",
        "\n",
        "# Q2. What is the range of the values for the normalised image pixels?\n",
        "# the range 0..1\n",
        "\n",
        "# Q3. What does each index value of the shape of the image represent?\n",
        "# Images shape: torch.Size([4, 3, 32, 32])\n",
        "# 4: # of images, 3: # of channels, 32, 32: 32 x 32 (height and width) pixels.\n",
        "\n",
        "# Q4. What do the label values represent?\n",
        "#'plane', 'car', 'bird', 'cat', 'deer', 'dog', 'frog', 'horse', 'ship', 'truck'\n",
        "# tensor([2, 9, 1, 2]), each number indicates 2-'bird', 9-'truck',and 1-'car',respectively"
      ],
      "execution_count": 4,
      "outputs": [
        {
          "output_type": "stream",
          "name": "stdout",
          "text": [
            "Image values: \n",
            "[tensor([[[[-0.6863, -0.6549, -0.6706,  ..., -0.8431, -0.8510, -0.8510],\n",
            "          [-0.6784, -0.6627, -0.6706,  ..., -0.8431, -0.8510, -0.8431],\n",
            "          [-0.6863, -0.6627, -0.6627,  ..., -0.8431, -0.8510, -0.8510],\n",
            "          ...,\n",
            "          [-0.7255, -0.7176, -0.6863,  ..., -0.8431, -0.8353, -0.8431],\n",
            "          [-0.7020, -0.6863, -0.7020,  ..., -0.8118, -0.7882, -0.8039],\n",
            "          [-0.7176, -0.7020, -0.7020,  ..., -0.6784, -0.7020, -0.7882]],\n",
            "\n",
            "         [[-0.7255, -0.6941, -0.7176,  ..., -0.8510, -0.8588, -0.8588],\n",
            "          [-0.7255, -0.7098, -0.7098,  ..., -0.8510, -0.8588, -0.8510],\n",
            "          [-0.7255, -0.7020, -0.7020,  ..., -0.8510, -0.8588, -0.8588],\n",
            "          ...,\n",
            "          [-0.7333, -0.7176, -0.7098,  ..., -0.8431, -0.8353, -0.8353],\n",
            "          [-0.6941, -0.6784, -0.7176,  ..., -0.7804, -0.7804, -0.8118],\n",
            "          [-0.7098, -0.6863, -0.7098,  ..., -0.6392, -0.6784, -0.7725]],\n",
            "\n",
            "         [[-0.8824, -0.8588, -0.8588,  ..., -0.8902, -0.8980, -0.8980],\n",
            "          [-0.8431, -0.8431, -0.8588,  ..., -0.8824, -0.8980, -0.8902],\n",
            "          [-0.8510, -0.8353, -0.8510,  ..., -0.8902, -0.8980, -0.8980],\n",
            "          ...,\n",
            "          [-0.8275, -0.8353, -0.8353,  ..., -0.8980, -0.8902, -0.8824],\n",
            "          [-0.7647, -0.7490, -0.8275,  ..., -0.8118, -0.8275, -0.8667],\n",
            "          [-0.7804, -0.7725, -0.8196,  ..., -0.6549, -0.7176, -0.8196]]],\n",
            "\n",
            "\n",
            "        [[[-0.4510, -0.4353, -0.3255,  ..., -0.4431, -0.4980, -0.5686],\n",
            "          [-0.2471, -0.2000, -0.0118,  ..., -0.2706, -0.3569, -0.4196],\n",
            "          [ 0.2235,  0.0824,  0.1216,  ..., -0.2392, -0.2471, -0.2392],\n",
            "          ...,\n",
            "          [ 0.2706,  0.2314,  0.1294,  ..., -0.6549, -0.5216, -0.3804],\n",
            "          [ 0.2314,  0.1765,  0.1373,  ..., -0.9216, -0.8039, -0.5294],\n",
            "          [ 0.1216,  0.1529,  0.2235,  ..., -0.9451, -0.9059, -0.6784]],\n",
            "\n",
            "         [[-0.1686, -0.1529, -0.0980,  ..., -0.1137, -0.1843, -0.2549],\n",
            "          [-0.0980, -0.0510,  0.0824,  ...,  0.0431, -0.0745, -0.1373],\n",
            "          [ 0.2157,  0.0824,  0.0902,  ...,  0.0588,  0.0118,  0.0118],\n",
            "          ...,\n",
            "          [ 0.2941,  0.2471,  0.1451,  ..., -0.8118, -0.6627, -0.5059],\n",
            "          [ 0.2314,  0.1765,  0.1373,  ..., -0.9686, -0.8745, -0.6157],\n",
            "          [ 0.1059,  0.1373,  0.2000,  ..., -0.9529, -0.9373, -0.7412]],\n",
            "\n",
            "         [[-0.7020, -0.6392, -0.5216,  ..., -0.6000, -0.6784, -0.7569],\n",
            "          [-0.6078, -0.4667, -0.2392,  ..., -0.4588, -0.5529, -0.6157],\n",
            "          [-0.3020, -0.2941, -0.1843,  ..., -0.4588, -0.4510, -0.4510],\n",
            "          ...,\n",
            "          [ 0.1451,  0.0980, -0.0039,  ..., -0.9765, -0.8980, -0.7098],\n",
            "          [ 0.0902,  0.0353, -0.0039,  ..., -0.9765, -0.9137, -0.6863],\n",
            "          [-0.0275,  0.0039,  0.0667,  ..., -0.9529, -0.9059, -0.7490]]],\n",
            "\n",
            "\n",
            "        [[[ 0.3020,  0.2471,  0.2314,  ...,  0.4118,  0.4353,  0.4196],\n",
            "          [ 0.2471,  0.1137,  0.4510,  ...,  0.2471,  0.4902,  0.5294],\n",
            "          [-0.1922,  0.1529,  0.6941,  ...,  0.2392,  0.4353,  0.4667],\n",
            "          ...,\n",
            "          [-0.3333, -0.3255, -0.3098,  ..., -0.3725, -0.3725, -0.3647],\n",
            "          [-0.4039, -0.4275, -0.4353,  ..., -0.3882, -0.3961, -0.3725],\n",
            "          [-0.4824, -0.5137, -0.5216,  ..., -0.4824, -0.4588, -0.4039]],\n",
            "\n",
            "         [[ 0.3647,  0.3412,  0.2784,  ...,  0.3804,  0.4039,  0.3961],\n",
            "          [ 0.3333,  0.1608,  0.4431,  ...,  0.1608,  0.4039,  0.4510],\n",
            "          [-0.1059,  0.1451,  0.6235,  ...,  0.1373,  0.3412,  0.3961],\n",
            "          ...,\n",
            "          [-0.0510, -0.0510, -0.0510,  ..., -0.2157, -0.2314, -0.2078],\n",
            "          [-0.1216, -0.1529, -0.1608,  ..., -0.2471, -0.2157, -0.1843],\n",
            "          [-0.2000, -0.2471, -0.2471,  ..., -0.3333, -0.2706, -0.2157]],\n",
            "\n",
            "         [[-0.3490, -0.4431, -0.2941,  ..., -0.0824, -0.1137, -0.1373],\n",
            "          [-0.2471, -0.4118,  0.0980,  ..., -0.4196, -0.1529, -0.0353],\n",
            "          [-0.5059, -0.1765,  0.5216,  ..., -0.3098, -0.0824,  0.0196],\n",
            "          ...,\n",
            "          [ 0.1059,  0.0980,  0.0980,  ..., -0.2000, -0.1843, -0.1608],\n",
            "          [ 0.0275, -0.0039, -0.0118,  ..., -0.2471, -0.1843, -0.1529],\n",
            "          [-0.0510, -0.0980, -0.0980,  ..., -0.3333, -0.2471, -0.1843]]],\n",
            "\n",
            "\n",
            "        [[[-0.2706, -0.2784, -0.1922,  ..., -0.6000, -0.7255, -0.6235],\n",
            "          [-0.2471, -0.2471, -0.2078,  ..., -0.5922, -0.7255, -0.6157],\n",
            "          [-0.2157, -0.2549, -0.2627,  ..., -0.5451, -0.6549, -0.6471],\n",
            "          ...,\n",
            "          [-0.1608, -0.0980, -0.0667,  ...,  0.0431,  0.0275, -0.0039],\n",
            "          [-0.2157, -0.1529, -0.1529,  ...,  0.0118,  0.0275,  0.0196],\n",
            "          [-0.2157, -0.1529, -0.2000,  ...,  0.0353,  0.0353,  0.0510]],\n",
            "\n",
            "         [[-0.1529, -0.1216, -0.0275,  ..., -0.3098, -0.4431, -0.3882],\n",
            "          [-0.0824, -0.0588, -0.0039,  ..., -0.3255, -0.4745, -0.3647],\n",
            "          [-0.0039, -0.0196, -0.0118,  ..., -0.2784, -0.4196, -0.3804],\n",
            "          ...,\n",
            "          [ 0.2000,  0.2549,  0.2863,  ...,  0.4039,  0.3961,  0.4039],\n",
            "          [ 0.1451,  0.2078,  0.2157,  ...,  0.3725,  0.3961,  0.4275],\n",
            "          [ 0.0745,  0.1529,  0.1686,  ...,  0.4431,  0.4510,  0.4667]],\n",
            "\n",
            "         [[-0.6706, -0.6471, -0.5529,  ..., -0.6706, -0.7804, -0.7725],\n",
            "          [-0.6157, -0.5922, -0.5373,  ..., -0.6627, -0.7961, -0.7255],\n",
            "          [-0.5529, -0.5686, -0.5686,  ..., -0.6627, -0.7961, -0.7647],\n",
            "          ...,\n",
            "          [-0.4824, -0.4196, -0.3569,  ..., -0.1843, -0.1765, -0.2157],\n",
            "          [-0.5843, -0.5373, -0.4667,  ..., -0.1922, -0.1608, -0.2078],\n",
            "          [-0.6078, -0.5686, -0.5216,  ..., -0.1686, -0.1608, -0.1686]]]]), tensor([2, 9, 1, 2])]\n",
            "Length: 2\n",
            "Type: <class 'list'>\n",
            "Images shape: torch.Size([4, 3, 32, 32])\n",
            "Lables: tensor([2, 9, 1, 2])\n"
          ]
        }
      ]
    },
    {
      "cell_type": "markdown",
      "metadata": {
        "id": "71_0Ci7gZkqV"
      },
      "source": [
        "### View some images\n",
        "- Note that images have been normalised and may not look very clear"
      ]
    },
    {
      "cell_type": "code",
      "metadata": {
        "id": "Zwz0kGvfuL6d",
        "colab": {
          "base_uri": "https://localhost:8080/",
          "height": 277
        },
        "outputId": "c5f4ed28-9da6-4d88-de92-672a00f31ce0"
      },
      "source": [
        "# Create a grid \n",
        "plt.figure(figsize=(12,12))\n",
        "grid = torchvision.utils.make_grid(tensor=images, nrow=4) # nrow = number of images displayed in each row\n",
        "\n",
        "print(f\"class labels: {labels}\")\n",
        "\n",
        "# Use grid.permute() to transpose the grid so that the axes meet the specifications required by \n",
        "# plt.imshow(), which are [height, width, channels]. PyTorch dimensions are [channels, height, width].\n",
        "# grid.permute(1,2,0) = [axis 1 x axis 2 x axis 0] = [image heigth x image width x # color channels]\n",
        "plt.imshow(grid.permute(1,2,0))"
      ],
      "execution_count": 5,
      "outputs": [
        {
          "output_type": "stream",
          "name": "stderr",
          "text": [
            "Clipping input data to the valid range for imshow with RGB data ([0..1] for floats or [0..255] for integers).\n"
          ]
        },
        {
          "output_type": "stream",
          "name": "stdout",
          "text": [
            "class labels: tensor([2, 9, 1, 2])\n"
          ]
        },
        {
          "output_type": "execute_result",
          "data": {
            "text/plain": [
              "<matplotlib.image.AxesImage at 0x7fcda665e450>"
            ]
          },
          "metadata": {},
          "execution_count": 5
        },
        {
          "output_type": "display_data",
          "data": {
            "text/plain": [
              "<Figure size 864x864 with 1 Axes>"
            ],
            "image/png": "[encoded data removed]"
          },
          "metadata": {
            "needs_background": "light"
          }
        }
      ]
    },
    {
      "cell_type": "markdown",
      "metadata": {
        "id": "jVMti_g2J-W5"
      },
      "source": [
        "## CNN model"
      ]
    },
    {
      "cell_type": "code",
      "metadata": {
        "id": "tWePXqBQKAp7"
      },
      "source": [
        "class Test(nn.Module):\n",
        "  def __init__(self):\n",
        "    super().__init__()\n",
        "    self.conv1 = nn.Conv2d(3, 6, 5) #inchannel(3 for color), outchannel, kernel, stride, padding / 32x32 \n",
        "    self.relu = nn.ReLU() #28x28\n",
        "    self.pool = nn.MaxPool2d(2, 2) # kernel_size, stride / 14x14\n",
        "    self.conv2 = nn.Conv2d(6, 16, 5) # 10x10 #pooling 5x5\n",
        "    # flatten 3D tensor to 1D tensor\n",
        "    self.fc1 = nn.Linear(16*5*5, 128) # Q8. Fill out the correct input dimensions \n",
        "    self.fc2 = nn.Linear(128, 64)\n",
        "    self.fc3 = nn.Linear(64, 10) # final output matches num_classes\n",
        "\n",
        "  def forward(self, x):\n",
        "    # Conv + ReLU + pool\n",
        "    print(f'Input shape: {x.shape}')\n",
        "    out = self.conv1(x)\n",
        "    print(f'After Conv1: {out.shape}')\n",
        "    print(f'Padding: {self.conv1.padding}')\n",
        "    out = self.pool(F.relu(out))\n",
        "    print(f'After Pool1: {out.shape}')\n",
        "    out = self.conv2(out)\n",
        "    print(f'After Conv2: {out.shape}')\n",
        "    out = self.pool(F.relu(out))\n",
        "    print(f'After Pool2: {out.shape}')\n",
        "    # Flatten it before fc1\n",
        "    out = out.reshape(-1, 16*5*5) # Q8. Fill out the correct dimension after -1\n",
        "    print(f'Before fc1: {out.shape}')\n",
        "    out = self.fc1(out)\n",
        "    out = self.relu(out)\n",
        "    print(f'After fc1: {out.shape}')\n",
        "    out = self.fc2(out)\n",
        "    out = self.relu(out)\n",
        "    print(f'After fc2: {out.shape}')\n",
        "    out = self.fc3(out) # NO softmax as it will be included in CrossEntropyLoss\n",
        "    print(f'After fc3: {out.shape}')\n",
        "    return out\n",
        "\n",
        "\n",
        "model = Test().to(device)\n",
        "# Let's view the softmax output\n",
        "probs = nn.Softmax(dim=1)\n",
        "\n",
        "\n",
        "# Q5. What do the three arguments of the first convolutional layer, conv1 represent (3,6,5)? \n",
        "# Each number represents input channel(3 for color image), the number of output channels(6), and the filter size(5), respectively.\n",
        "\n",
        "# Q6. Explain the arguments of the second convolutional layer, conv2 (6, 16, 5) \n",
        "# 6 - # of input units(should be matched the output size of the previous conv layer)\n",
        "# 16 - # of output channels\n",
        "# 5 - # of Kernel(filter) size\n",
        "\n",
        "# Q7. Figure out the convolved image size after conv1\n",
        "# Convolved image size = ((input_width - filter_size + 2 * padding) / stride) + 1\n",
        "# ((32-5+2*0)/1) + 1 = 28\n",
        "\n",
        "# Q8. Figure out the input size to the first fcn layer and fill out the code above in init() and forward()\n"
      ],
      "execution_count": 30,
      "outputs": []
    },
    {
      "cell_type": "markdown",
      "metadata": {
        "id": "EZk7fcriftFm"
      },
      "source": [
        "### Run through a sample batch"
      ]
    },
    {
      "cell_type": "code",
      "metadata": {
        "id": "JW7t-qz-FjGp",
        "colab": {
          "base_uri": "https://localhost:8080/"
        },
        "outputId": "90091222-7779-4c36-d715-865e02828978"
      },
      "source": [
        "sample = next(iter(train_loader))\n",
        "\n",
        "images, labels = sample\n",
        "\n",
        "images = images.to(device)\n",
        "labels = labels.to(device)\n",
        "\n",
        "output = model(images)\n",
        "print(f'Output shape: {output.shape}')\n",
        "print(f'Softmax outputs:\\n {probs(output)}')\n",
        "\n",
        "\n",
        "# Q9. Explain the shape of the output after conv1\n",
        "# 4 images, 6 channels, 28x28 pixel sizes' image (through passed 5x5 filter size, the underlying image has changed(32x32 -> 28x28))\n",
        "\n",
        "# Q10. What does the pooling do to the dimensions of the feature images here?\n",
        "# Polling reduces dimensionality, through two poolings the dimension of images is reduced.\n",
        "\n",
        "# Q11. Add padding=1 to conv1 and rerun the last two code cells. How did padding affect the dimensions of the feature images?\n",
        "# before padding 28x28(after Conv1) -> after padding 30x30(after Conv1);\n",
        "# from the original size 32x32, it is not much more reduced than before padding.\n",
        "# i.e. By padding the original size can be restored.\n",
        "\n",
        "# Q12. What is represented by each list returned by Softmax outputs?\n",
        "# Each list shows the probability for each classes.\n"
      ],
      "execution_count": 31,
      "outputs": [
        {
          "output_type": "stream",
          "name": "stdout",
          "text": [
            "Input shape: torch.Size([4, 3, 32, 32])\n",
            "After Conv1: torch.Size([4, 6, 28, 28])\n",
            "Padding: (0, 0)\n",
            "After Pool1: torch.Size([4, 6, 14, 14])\n",
            "After Conv2: torch.Size([4, 16, 10, 10])\n",
            "After Pool2: torch.Size([4, 16, 5, 5])\n",
            "Before fc1: torch.Size([4, 400])\n",
            "After fc1: torch.Size([4, 128])\n",
            "After fc2: torch.Size([4, 64])\n",
            "After fc3: torch.Size([4, 10])\n",
            "Output shape: torch.Size([4, 10])\n",
            "Softmax outputs:\n",
            " tensor([[0.1112, 0.1060, 0.1040, 0.1074, 0.1168, 0.0908, 0.0910, 0.0903, 0.0924,\n",
            "         0.0902],\n",
            "        [0.1104, 0.1058, 0.1051, 0.1073, 0.1158, 0.0909, 0.0907, 0.0899, 0.0932,\n",
            "         0.0909],\n",
            "        [0.1101, 0.1054, 0.1049, 0.1060, 0.1172, 0.0920, 0.0903, 0.0894, 0.0932,\n",
            "         0.0913],\n",
            "        [0.1100, 0.1067, 0.1052, 0.1060, 0.1172, 0.0908, 0.0901, 0.0902, 0.0928,\n",
            "         0.0909]], device='cuda:0', grad_fn=<SoftmaxBackward0>)\n"
          ]
        }
      ]
    },
    {
      "cell_type": "markdown",
      "metadata": {
        "id": "eQj3gsf7Y6Ql"
      },
      "source": [
        "\n",
        "### Let's Train!\n",
        "- Now that we know and understand how CNNs work, let's put everything together for CIFAR-10 dataset\n",
        "  - Download the data in batches and normalisation with shuffling\n",
        "  - Build a model with 2 CNN layers containing ReLU and pooling\n",
        "  - Passing the feature images to 3 fully connected layers (FCNs) also containing RELU activation\n",
        "  - The final layer has 10 units to reprsent the number of output classes\n",
        "  - Use Binary Cross Entropy Loss and SGD optimiser\n",
        "  - Evaluate the model on the test data on EACH class\n",
        "\n",
        "**IMPORTANT!** Fill out the missing code below before training "
      ]
    },
    {
      "cell_type": "code",
      "metadata": {
        "id": "-1_4tKL4X3WQ"
      },
      "source": [
        "class CNN(nn.Module):\n",
        "  def __init__(self):\n",
        "    super().__init__()\n",
        "    self.conv1 = nn.Conv2d(3, 6, 5) # 3color(input channel), output channel, kernel size / from the 32x32\n",
        "    self.relu = nn.ReLU() #after conv1, w/o padding, 28x28\n",
        "    self.pool = nn.MaxPool2d(2, 2) #after pooling 14x14\n",
        "    self.conv2 = nn.Conv2d(6, 16, 5) #after conv2, w/o padding, (4,3,10,10) -> after pooling (4,3,5,5)\n",
        "    # flatten 3D tensor to 1D tensor\n",
        "    self.fc1 = nn.Linear(16*5*5, 128) # TODO\n",
        "    self.fc2 = nn.Linear(128, 64)\n",
        "    self.fc3 = nn.Linear(64, 10) # final output matches num_classes\n",
        "\n",
        "  def forward(self, x):\n",
        "    # Conv + ReLU + pool\n",
        "    out = self.pool(F.relu(self.conv1(x)))\n",
        "    out = self.pool(F.relu(self.conv2(out)))\n",
        "    # Flatten it before fc1\n",
        "    out = out.reshape(-1, 16*5*5) # TODO\n",
        "    out = F.relu(self.fc1(out))\n",
        "    out = F.relu(self.fc2(out))\n",
        "    out = self.fc3(out) # NO softmax as it will be included in CrossEntropyLoss\n",
        "    return out\n",
        "\n",
        "\n",
        "model = CNN().to(device)\n",
        "\n",
        "# Q13. Use the Cross Entropy Loss for this task (UNCOMMENT & COMPLETE CODE BELOW)\n",
        "criterion = nn.CrossEntropyLoss() #Using softmax\n",
        "\n",
        "# Q14. Use the Stochastic Gradient Descent (SGD) optimiser, this time ADD momentum=0.9 (UNCOMMENT & COMPLETE CODE BELOW)\n",
        "opt = torch.optim.SGD(model.parameters(), momentum = 0.9, lr = learning_rate)"
      ],
      "execution_count": 32,
      "outputs": []
    },
    {
      "cell_type": "code",
      "source": [
        "print(images.shape)"
      ],
      "metadata": {
        "colab": {
          "base_uri": "https://localhost:8080/"
        },
        "id": "skSJClzR-xWu",
        "outputId": "a404ab31-12fc-4635-89e0-9bee13081311"
      },
      "execution_count": 33,
      "outputs": [
        {
          "output_type": "stream",
          "name": "stdout",
          "text": [
            "torch.Size([4, 3, 32, 32])\n"
          ]
        }
      ]
    },
    {
      "cell_type": "markdown",
      "metadata": {
        "id": "Zlg2FFaJKppP"
      },
      "source": [
        "## Training loop"
      ]
    },
    {
      "cell_type": "code",
      "metadata": {
        "id": "e15E85ZQKr1R",
        "colab": {
          "base_uri": "https://localhost:8080/"
        },
        "outputId": "a9dbd5f3-0b7a-4fa6-8f47-7d294b14db30"
      },
      "source": [
        "n_total_steps = len(train_set)\n",
        "n_iterations = -(-n_total_steps // batch_size) # ceiling division\n",
        "\n",
        "for epoch in range(num_epochs):\n",
        "  for i, (images, labels) in enumerate(train_loader):\n",
        "    #print(images.shape) # [4,3,32,32] batch size, channels, img dim\n",
        "    images = images.to(device)\n",
        "    labels = labels.to(device)\n",
        "\n",
        "    # Forward pass\n",
        "    outputs = model(images)\n",
        "    loss = criterion(outputs, labels)\n",
        "\n",
        "    # Backward pass and Optimise\n",
        "    opt.zero_grad()\n",
        "    loss.backward()\n",
        "    opt.step()\n",
        "\n",
        "    # Print\n",
        "    if (i+1) % 1000 == 0:\n",
        "      print(f'Epoch {epoch+1}/{num_epochs}, Iteration {i+1}/{n_iterations}, Loss={loss.item():.4f} ')\n",
        "\n"
      ],
      "execution_count": 39,
      "outputs": [
        {
          "output_type": "stream",
          "name": "stdout",
          "text": [
            "Epoch 1/4, Iteration 1000/12500, Loss=1.1767 \n",
            "Epoch 1/4, Iteration 2000/12500, Loss=1.1336 \n",
            "Epoch 1/4, Iteration 3000/12500, Loss=3.5651 \n",
            "Epoch 1/4, Iteration 4000/12500, Loss=1.7984 \n",
            "Epoch 1/4, Iteration 5000/12500, Loss=0.8648 \n",
            "Epoch 1/4, Iteration 6000/12500, Loss=0.9948 \n",
            "Epoch 1/4, Iteration 7000/12500, Loss=0.7898 \n",
            "Epoch 1/4, Iteration 8000/12500, Loss=0.8731 \n",
            "Epoch 1/4, Iteration 9000/12500, Loss=0.6699 \n",
            "Epoch 1/4, Iteration 10000/12500, Loss=0.8129 \n",
            "Epoch 1/4, Iteration 11000/12500, Loss=2.1317 \n",
            "Epoch 1/4, Iteration 12000/12500, Loss=1.2251 \n",
            "Epoch 2/4, Iteration 1000/12500, Loss=0.7543 \n",
            "Epoch 2/4, Iteration 2000/12500, Loss=1.1872 \n",
            "Epoch 2/4, Iteration 3000/12500, Loss=0.6914 \n",
            "Epoch 2/4, Iteration 4000/12500, Loss=0.0865 \n",
            "Epoch 2/4, Iteration 5000/12500, Loss=1.3930 \n",
            "Epoch 2/4, Iteration 6000/12500, Loss=0.0812 \n",
            "Epoch 2/4, Iteration 7000/12500, Loss=0.8999 \n",
            "Epoch 2/4, Iteration 8000/12500, Loss=1.2965 \n",
            "Epoch 2/4, Iteration 9000/12500, Loss=0.4113 \n",
            "Epoch 2/4, Iteration 10000/12500, Loss=1.4194 \n",
            "Epoch 2/4, Iteration 11000/12500, Loss=0.0769 \n",
            "Epoch 2/4, Iteration 12000/12500, Loss=1.1311 \n",
            "Epoch 3/4, Iteration 1000/12500, Loss=0.9160 \n",
            "Epoch 3/4, Iteration 2000/12500, Loss=0.7699 \n",
            "Epoch 3/4, Iteration 3000/12500, Loss=1.3433 \n",
            "Epoch 3/4, Iteration 4000/12500, Loss=0.7906 \n",
            "Epoch 3/4, Iteration 5000/12500, Loss=0.9242 \n",
            "Epoch 3/4, Iteration 6000/12500, Loss=1.1777 \n",
            "Epoch 3/4, Iteration 7000/12500, Loss=0.3345 \n",
            "Epoch 3/4, Iteration 8000/12500, Loss=0.4362 \n",
            "Epoch 3/4, Iteration 9000/12500, Loss=0.8822 \n",
            "Epoch 3/4, Iteration 10000/12500, Loss=0.4500 \n",
            "Epoch 3/4, Iteration 11000/12500, Loss=0.4530 \n",
            "Epoch 3/4, Iteration 12000/12500, Loss=1.9885 \n",
            "Epoch 4/4, Iteration 1000/12500, Loss=0.7320 \n",
            "Epoch 4/4, Iteration 2000/12500, Loss=1.4607 \n",
            "Epoch 4/4, Iteration 3000/12500, Loss=0.9849 \n",
            "Epoch 4/4, Iteration 4000/12500, Loss=0.2772 \n",
            "Epoch 4/4, Iteration 5000/12500, Loss=0.2940 \n",
            "Epoch 4/4, Iteration 6000/12500, Loss=0.6672 \n",
            "Epoch 4/4, Iteration 7000/12500, Loss=0.2399 \n",
            "Epoch 4/4, Iteration 8000/12500, Loss=1.4550 \n",
            "Epoch 4/4, Iteration 9000/12500, Loss=1.3661 \n",
            "Epoch 4/4, Iteration 10000/12500, Loss=1.5249 \n",
            "Epoch 4/4, Iteration 11000/12500, Loss=2.1608 \n",
            "Epoch 4/4, Iteration 12000/12500, Loss=0.9945 \n"
          ]
        }
      ]
    },
    {
      "cell_type": "code",
      "source": [
        "print(images.shape)"
      ],
      "metadata": {
        "colab": {
          "base_uri": "https://localhost:8080/"
        },
        "id": "tDmykdSuD6Q0",
        "outputId": "65a351d6-7697-4cf5-be57-ef88be73fc03"
      },
      "execution_count": 43,
      "outputs": [
        {
          "output_type": "stream",
          "name": "stdout",
          "text": [
            "torch.Size([4, 3, 32, 32])\n"
          ]
        }
      ]
    },
    {
      "cell_type": "markdown",
      "metadata": {
        "id": "HahXHRsSMo6H"
      },
      "source": [
        "## Evaluation"
      ]
    },
    {
      "cell_type": "code",
      "metadata": {
        "id": "iIuqYw8JMqy-",
        "colab": {
          "base_uri": "https://localhost:8080/"
        },
        "outputId": "c3a6f59e-3fc9-437c-ba1e-27892c31c84f"
      },
      "source": [
        "# Deactivate the autograd engine to reduce memory usage and speed up computations (backprop disabled).\n",
        "with torch.no_grad():\n",
        "  n_correct = 0\n",
        "  n_samples = 0\n",
        "  n_class_correct = [0 for i in range(10)]\n",
        "  n_class_samples = [0 for i in range(10)]\n",
        "\n",
        "\n",
        "  # Loop through test set\n",
        "  for images, labels in test_loader:\n",
        "    # Put images on GPU\n",
        "    images = images.to(device)\n",
        "    labels = labels.to(device)\n",
        "    # Run on trained model\n",
        "    outputs = model(images) \n",
        "\n",
        "    # Get predictions\n",
        "    # torch.max() returns actual probability value (ignored) and index or class label (selected)\n",
        "    _, y_preds = torch.max(outputs, 1)\n",
        "    n_samples += labels.size(0) # different to FFNN\n",
        "    n_correct += (y_preds == labels).sum().item()\n",
        "\n",
        "    # Keep track of each class\n",
        "    for i in range(batch_size):\n",
        "      label = labels[i]\n",
        "      pred = y_preds[i]\n",
        "      if (label == pred):\n",
        "        n_class_correct[label] += 1\n",
        "      n_class_samples[label] += 1\n",
        "\n",
        "  # Print accuracy\n",
        "  acc = 100.0 * n_correct / n_samples\n",
        "  print(f'Test Accuracy of the WHOLE CNN = {acc} %')\n",
        "\n",
        "  for i in range(len(classes)):\n",
        "    acc = 100.0 * n_class_correct[i] / n_class_samples[i]\n",
        "    print(f'Accuracy of {classes[i]}: {acc} %')\n"
      ],
      "execution_count": 40,
      "outputs": [
        {
          "output_type": "stream",
          "name": "stdout",
          "text": [
            "Test Accuracy of the WHOLE CNN = 63.58 %\n",
            "Accuracy of plane: 61.6 %\n",
            "Accuracy of car: 76.8 %\n",
            "Accuracy of bird: 50.2 %\n",
            "Accuracy of cat: 30.3 %\n",
            "Accuracy of deer: 64.2 %\n",
            "Accuracy of dog: 54.5 %\n",
            "Accuracy of frog: 80.8 %\n",
            "Accuracy of horse: 66.8 %\n",
            "Accuracy of ship: 80.7 %\n",
            "Accuracy of truck: 69.9 %\n"
          ]
        }
      ]
    },
    {
      "cell_type": "code",
      "metadata": {
        "id": "5TKj_ZV-Dzzn"
      },
      "source": [
        "# Q15. Why don't we need to reshape the input images when training and testing?\n",
        "# For CNN in this case, due to our construction of model, there is no need to match the input and the batch size.\n",
        "\n",
        "# Q16. Try to improve the model performance, e.g. by increasing the epochs, changing batch size, adding convolutions, etc.\n",
        "# Provide the code chunk showing the improved accuracy on the test set below. What changes did you make?\n",
        "\n",
        "# At first, I tried to increase epoch number by 1. The loss is smaller than before, however the overall performance is not changed better.\n",
        "# Epoch 5/5, Iteration 12000/12500, Loss=0.6767 \n",
        "# Test Accuracy of the WHOLE CNN = 62.5 %\n",
        "\n",
        "# Secondly, I changed the batch size from 4 to 5. Actually it is worse than before.\n",
        "\n",
        "# Finally, batch 4, num_epoch = 7\n",
        "# Test Accuracy of the WHOLE CNN = 62.56 %\n"
      ],
      "execution_count": null,
      "outputs": []
    },
    {
      "cell_type": "code",
      "source": [
        "# Hyper parameters\n",
        "num_epochs = 7\n",
        "batch_size = 4\n",
        "learning_rate = 0.001\n",
        "\n",
        "transform = transforms.Compose(\n",
        "    [transforms.ToTensor(),\n",
        "     transforms.Normalize((0.5, 0.5, 0.5), (0.5, 0.5, 0.5))\n",
        "     ])\n",
        "\n",
        "# 2.2 Download data\n",
        "train_set = torchvision.datasets.CIFAR10(\"./\", train=True, download=True, transform=transform)\n",
        "test_set = torchvision.datasets.CIFAR10(\"./\", train=False, download=True, transform=transform)\n",
        "\n",
        "# 2.3 Use DataLoader to get batches and shuffle\n",
        "train_loader = torch.utils.data.DataLoader(train_set, batch_size=batch_size, shuffle=True)\n",
        "test_loader = torch.utils.data.DataLoader(test_set, batch_size=batch_size, shuffle=False)\n",
        "\n",
        "classes = ('plane', 'car', 'bird', 'cat', 'deer', 'dog', 'frog', 'horse', 'ship', 'truck')"
      ],
      "metadata": {
        "colab": {
          "base_uri": "https://localhost:8080/"
        },
        "id": "QUpoQ6AcO-cW",
        "outputId": "26cb4ba4-1e1c-4dac-ff3c-4c924cdc1ec1"
      },
      "execution_count": 71,
      "outputs": [
        {
          "output_type": "stream",
          "name": "stdout",
          "text": [
            "Files already downloaded and verified\n",
            "Files already downloaded and verified\n"
          ]
        }
      ]
    },
    {
      "cell_type": "code",
      "source": [
        "class CNN(nn.Module):\n",
        "  def __init__(self):\n",
        "    super().__init__()\n",
        "    self.conv1 = nn.Conv2d(3, 6, 5) # 3color(input channel), output channel, kernel size / from the 32x32\n",
        "    self.relu = nn.ReLU() #after conv1, w/o padding, 28x28\n",
        "    self.pool = nn.MaxPool2d(2, 2) #after pooling 14x14\n",
        "    self.conv2 = nn.Conv2d(6, 16, 5) #after conv2, w/o padding, (4,3,10,10) -> after pooling (4,3,5,5)\n",
        "    # flatten 3D tensor to 1D tensor\n",
        "    self.fc1 = nn.Linear(16*5*5, 128) # TODO\n",
        "    self.fc2 = nn.Linear(128, 64)\n",
        "    self.fc3 = nn.Linear(64, 10) # final output matches num_classes\n",
        "\n",
        "  def forward(self, x):\n",
        "    # Conv + ReLU + pool\n",
        "    out = self.pool(F.relu(self.conv1(x)))\n",
        "    out = self.pool(F.relu(self.conv2(out)))\n",
        "    # Flatten it before fc1\n",
        "    out = out.reshape(-1, 16*5*5) # TODO\n",
        "    out = F.relu(self.fc1(out))\n",
        "    out = F.relu(self.fc2(out))\n",
        "    out = self.fc3(out) # NO softmax as it will be included in CrossEntropyLoss\n",
        "    return out\n",
        "\n",
        "\n",
        "model = CNN().to(device)\n",
        "\n",
        "# Q13. Use the Cross Entropy Loss for this task (UNCOMMENT & COMPLETE CODE BELOW)\n",
        "criterion = nn.CrossEntropyLoss() #Using softmax\n",
        "\n",
        "# Q14. Use the Stochastic Gradient Descent (SGD) optimiser, this time ADD momentum=0.9 (UNCOMMENT & COMPLETE CODE BELOW)\n",
        "opt = torch.optim.SGD(model.parameters(), momentum = 0.9, lr = learning_rate)"
      ],
      "metadata": {
        "id": "z6yHRCq4OFFk"
      },
      "execution_count": 72,
      "outputs": []
    },
    {
      "cell_type": "code",
      "source": [
        "n_total_steps = len(train_set)\n",
        "n_iterations = -(-n_total_steps // batch_size) # ceiling division\n",
        "\n",
        "for epoch in range(num_epochs):\n",
        "  for i, (images, labels) in enumerate(train_loader):\n",
        "    #print(images.shape) # [4,3,32,32] batch size, channels, img dim\n",
        "    images = images.to(device)\n",
        "    labels = labels.to(device)\n",
        "\n",
        "    # Forward pass\n",
        "    outputs = model(images)\n",
        "    loss = criterion(outputs, labels)\n",
        "\n",
        "    # Backward pass and Optimise\n",
        "    opt.zero_grad()\n",
        "    loss.backward()\n",
        "    opt.step()\n",
        "\n",
        "    # Print\n",
        "    if (i+1) % 1250 == 0:\n",
        "      print(f'Epoch {epoch+1}/{num_epochs}, Iteration {i+1}/{n_iterations}, Loss={loss.item():.4f} ')\n"
      ],
      "metadata": {
        "colab": {
          "base_uri": "https://localhost:8080/",
          "height": 711
        },
        "id": "n03ijrTKPHv5",
        "outputId": "28baad2b-a307-4a99-f50f-bb6bbee9df17"
      },
      "execution_count": 73,
      "outputs": [
        {
          "output_type": "stream",
          "name": "stdout",
          "text": [
            "Epoch 1/7, Iteration 1250/12500, Loss=2.3369 \n",
            "Epoch 1/7, Iteration 2500/12500, Loss=1.9722 \n",
            "Epoch 1/7, Iteration 3750/12500, Loss=1.8611 \n",
            "Epoch 1/7, Iteration 5000/12500, Loss=1.7155 \n",
            "Epoch 1/7, Iteration 6250/12500, Loss=2.1511 \n",
            "Epoch 1/7, Iteration 7500/12500, Loss=2.0897 \n",
            "Epoch 1/7, Iteration 8750/12500, Loss=2.0916 \n",
            "Epoch 1/7, Iteration 10000/12500, Loss=1.0624 \n",
            "Epoch 1/7, Iteration 11250/12500, Loss=0.7826 \n",
            "Epoch 1/7, Iteration 12500/12500, Loss=1.5612 \n",
            "Epoch 2/7, Iteration 1250/12500, Loss=1.5103 \n",
            "Epoch 2/7, Iteration 2500/12500, Loss=1.4062 \n",
            "Epoch 2/7, Iteration 3750/12500, Loss=1.7410 \n",
            "Epoch 2/7, Iteration 5000/12500, Loss=1.0264 \n",
            "Epoch 2/7, Iteration 6250/12500, Loss=1.4982 \n",
            "Epoch 2/7, Iteration 7500/12500, Loss=1.1684 \n",
            "Epoch 2/7, Iteration 8750/12500, Loss=1.8656 \n",
            "Epoch 2/7, Iteration 10000/12500, Loss=1.1123 \n"
          ]
        },
        {
          "output_type": "error",
          "ename": "KeyboardInterrupt",
          "evalue": "ignored",
          "traceback": [
            "\u001b[0;31m---------------------------------------------------------------------------\u001b[0m",
            "\u001b[0;31mKeyboardInterrupt\u001b[0m                         Traceback (most recent call last)",
            "\u001b[0;32m<ipython-input-73-acae155813b6>\u001b[0m in \u001b[0;36m<module>\u001b[0;34m()\u001b[0m\n\u001b[1;32m     14\u001b[0m     \u001b[0;31m# Backward pass and Optimise\u001b[0m\u001b[0;34m\u001b[0m\u001b[0;34m\u001b[0m\u001b[0;34m\u001b[0m\u001b[0m\n\u001b[1;32m     15\u001b[0m     \u001b[0mopt\u001b[0m\u001b[0;34m.\u001b[0m\u001b[0mzero_grad\u001b[0m\u001b[0;34m(\u001b[0m\u001b[0;34m)\u001b[0m\u001b[0;34m\u001b[0m\u001b[0;34m\u001b[0m\u001b[0m\n\u001b[0;32m---> 16\u001b[0;31m     \u001b[0mloss\u001b[0m\u001b[0;34m.\u001b[0m\u001b[0mbackward\u001b[0m\u001b[0;34m(\u001b[0m\u001b[0;34m)\u001b[0m\u001b[0;34m\u001b[0m\u001b[0;34m\u001b[0m\u001b[0m\n\u001b[0m\u001b[1;32m     17\u001b[0m     \u001b[0mopt\u001b[0m\u001b[0;34m.\u001b[0m\u001b[0mstep\u001b[0m\u001b[0;34m(\u001b[0m\u001b[0;34m)\u001b[0m\u001b[0;34m\u001b[0m\u001b[0;34m\u001b[0m\u001b[0m\n\u001b[1;32m     18\u001b[0m \u001b[0;34m\u001b[0m\u001b[0m\n",
            "\u001b[0;32m/usr/local/lib/python3.7/dist-packages/torch/_tensor.py\u001b[0m in \u001b[0;36mbackward\u001b[0;34m(self, gradient, retain_graph, create_graph, inputs)\u001b[0m\n\u001b[1;32m    305\u001b[0m                 \u001b[0mcreate_graph\u001b[0m\u001b[0;34m=\u001b[0m\u001b[0mcreate_graph\u001b[0m\u001b[0;34m,\u001b[0m\u001b[0;34m\u001b[0m\u001b[0;34m\u001b[0m\u001b[0m\n\u001b[1;32m    306\u001b[0m                 inputs=inputs)\n\u001b[0;32m--> 307\u001b[0;31m         \u001b[0mtorch\u001b[0m\u001b[0;34m.\u001b[0m\u001b[0mautograd\u001b[0m\u001b[0;34m.\u001b[0m\u001b[0mbackward\u001b[0m\u001b[0;34m(\u001b[0m\u001b[0mself\u001b[0m\u001b[0;34m,\u001b[0m \u001b[0mgradient\u001b[0m\u001b[0;34m,\u001b[0m \u001b[0mretain_graph\u001b[0m\u001b[0;34m,\u001b[0m \u001b[0mcreate_graph\u001b[0m\u001b[0;34m,\u001b[0m \u001b[0minputs\u001b[0m\u001b[0;34m=\u001b[0m\u001b[0minputs\u001b[0m\u001b[0;34m)\u001b[0m\u001b[0;34m\u001b[0m\u001b[0;34m\u001b[0m\u001b[0m\n\u001b[0m\u001b[1;32m    308\u001b[0m \u001b[0;34m\u001b[0m\u001b[0m\n\u001b[1;32m    309\u001b[0m     \u001b[0;32mdef\u001b[0m \u001b[0mregister_hook\u001b[0m\u001b[0;34m(\u001b[0m\u001b[0mself\u001b[0m\u001b[0;34m,\u001b[0m \u001b[0mhook\u001b[0m\u001b[0;34m)\u001b[0m\u001b[0;34m:\u001b[0m\u001b[0;34m\u001b[0m\u001b[0;34m\u001b[0m\u001b[0m\n",
            "\u001b[0;32m/usr/local/lib/python3.7/dist-packages/torch/autograd/__init__.py\u001b[0m in \u001b[0;36mbackward\u001b[0;34m(tensors, grad_tensors, retain_graph, create_graph, grad_variables, inputs)\u001b[0m\n\u001b[1;32m    154\u001b[0m     Variable._execution_engine.run_backward(\n\u001b[1;32m    155\u001b[0m         \u001b[0mtensors\u001b[0m\u001b[0;34m,\u001b[0m \u001b[0mgrad_tensors_\u001b[0m\u001b[0;34m,\u001b[0m \u001b[0mretain_graph\u001b[0m\u001b[0;34m,\u001b[0m \u001b[0mcreate_graph\u001b[0m\u001b[0;34m,\u001b[0m \u001b[0minputs\u001b[0m\u001b[0;34m,\u001b[0m\u001b[0;34m\u001b[0m\u001b[0;34m\u001b[0m\u001b[0m\n\u001b[0;32m--> 156\u001b[0;31m         allow_unreachable=True, accumulate_grad=True)  # allow_unreachable flag\n\u001b[0m\u001b[1;32m    157\u001b[0m \u001b[0;34m\u001b[0m\u001b[0m\n\u001b[1;32m    158\u001b[0m \u001b[0;34m\u001b[0m\u001b[0m\n",
            "\u001b[0;31mKeyboardInterrupt\u001b[0m: "
          ]
        }
      ]
    },
    {
      "cell_type": "code",
      "source": [
        "# Deactivate the autograd engine to reduce memory usage and speed up computations (backprop disabled).\n",
        "with torch.no_grad():\n",
        "  n_correct = 0\n",
        "  n_samples = 0\n",
        "  n_class_correct = [0 for i in range(10)]\n",
        "  n_class_samples = [0 for i in range(10)]\n",
        "\n",
        "\n",
        "  # Loop through test set\n",
        "  for images, labels in test_loader:\n",
        "    # Put images on GPU\n",
        "    images = images.to(device)\n",
        "    labels = labels.to(device)\n",
        "    # Run on trained model\n",
        "    outputs = model(images) \n",
        "\n",
        "    # Get predictions\n",
        "    # torch.max() returns actual probability value (ignored) and index or class label (selected)\n",
        "    _, y_preds = torch.max(outputs, 1)\n",
        "    n_samples += labels.size(0) # different to FFNN\n",
        "    n_correct += (y_preds == labels).sum().item()\n",
        "\n",
        "    # Keep track of each class\n",
        "    for i in range(batch_size):\n",
        "      label = labels[i]\n",
        "      pred = y_preds[i]\n",
        "      if (label == pred):\n",
        "        n_class_correct[label] += 1\n",
        "      n_class_samples[label] += 1\n",
        "\n",
        "  # Print accuracy\n",
        "  acc = 100.0 * n_correct / n_samples\n",
        "  print(f'Test Accuracy of the WHOLE CNN = {acc} %')\n",
        "\n",
        "  for i in range(len(classes)):\n",
        "    acc = 100.0 * n_class_correct[i] / n_class_samples[i]\n",
        "    print(f'Accuracy of {classes[i]}: {acc} %')\n"
      ],
      "metadata": {
        "colab": {
          "base_uri": "https://localhost:8080/"
        },
        "id": "6AHgX3JgPTIy",
        "outputId": "c3d3891a-09fb-4362-d038-736232a15095"
      },
      "execution_count": 67,
      "outputs": [
        {
          "output_type": "stream",
          "name": "stdout",
          "text": [
            "Test Accuracy of the WHOLE CNN = 59.46 %\n",
            "Accuracy of plane: 55.4 %\n",
            "Accuracy of car: 81.5 %\n",
            "Accuracy of bird: 34.8 %\n",
            "Accuracy of cat: 48.9 %\n",
            "Accuracy of deer: 57.3 %\n",
            "Accuracy of dog: 47.7 %\n",
            "Accuracy of frog: 65.7 %\n",
            "Accuracy of horse: 65.7 %\n",
            "Accuracy of ship: 73.8 %\n",
            "Accuracy of truck: 63.8 %\n"
          ]
        }
      ]
    }
  ]
}
