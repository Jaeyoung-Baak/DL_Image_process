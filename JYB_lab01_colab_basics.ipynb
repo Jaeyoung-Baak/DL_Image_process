{
 "cells": [
  {
   "cell_type": "markdown",
   "metadata": {
    "id": "96gGKm-CZg27"
   },
   "source": [
    "# Lab 1 – Colab basics \n",
    "### NOTE: Before starting this tutorial\n",
    "- This file is not editable. **Save a copy to your Drive** first before working on it:\n",
    "  - ``File-->Save a copy in Drive``\n",
    "- The copy of the notebook should open and you can work on it. \n",
    "- Click ``Connect-->Connect to a hosted runtime``\n",
    "- **runtime** refers to the hosted virtual machine on Google Cloud\n",
    "- **local machine** refers to your own machine, e.g. PC or laptop\n",
    "\n",
    "## 1. Command lines in Colab\n",
    "\n",
    "- Command lines are preceeded by a ``!``\n",
    "- For more command lines that can help you navigate within your working space, see [here](http://www.mathcs.emory.edu/~valerie/courses/fall10/155/resources/unix_cheatsheet.html)\n",
    "- Run each of these code cells and understand what it is doing."
   ]
  },
  {
   "cell_type": "code",
   "execution_count": null,
   "metadata": {
    "id": "r5Z1SXkZZfoB"
   },
   "outputs": [],
   "source": [
    "# Show current directory\n",
    "!pwd\n",
    "\n",
    "# See the contents of the current directory\n",
    "!ls -al\n",
    "\n",
    "# Verify this by clicking on the \"Folder\" image on the left to see the current directory pictorially\n",
    "# Can you see what is inside the folder \"sample_data\" by clicking on it?\n",
    "# Command line alternative: how would you modify the ls command to see the \n",
    "# list of files inside \"sample_data\"?\n",
    "!ls -al sample_data"
   ]
  },
  {
   "cell_type": "markdown",
   "metadata": {
    "id": "TTcfkw8BFmgS"
   },
   "source": [
    "## Changing directory\n",
    "- You cannot use ``!cd`` to navigate the filesystem because shell commands in the notebook are executed in a temporary subshell.\n",
    "- In general, use ``!`` if the command is one that's okay to run in a separate shell. Use ``%`` if the command needs to be run on the specific notebook."
   ]
  },
  {
   "cell_type": "code",
   "execution_count": null,
   "metadata": {
    "id": "JOdOlaXkG2fk"
   },
   "outputs": [],
   "source": [
    "# Try to go one directory up\n",
    "!cd ..\n",
    "\n",
    "!pwd # Does it go to the root directory or remains the same as before?"
   ]
  },
  {
   "cell_type": "markdown",
   "metadata": {
    "id": "eH7e0IvDHOvU"
   },
   "source": [
    "Now try use the ``%cd`` magic command:\n"
   ]
  },
  {
   "cell_type": "code",
   "execution_count": null,
   "metadata": {
    "id": "J-MoVRK6FpkP"
   },
   "outputs": [],
   "source": [
    "# Go one directory up\n",
    "%cd ..\n",
    "\n",
    "!pwd"
   ]
  },
  {
   "cell_type": "markdown",
   "metadata": {
    "id": "r544DgZUIFyl"
   },
   "source": [
    "Go back to the previous directory you were in"
   ]
  },
  {
   "cell_type": "code",
   "execution_count": null,
   "metadata": {
    "id": "-2CWHX5xIJlM"
   },
   "outputs": [],
   "source": [
    "%cd -"
   ]
  },
  {
   "cell_type": "markdown",
   "metadata": {
    "id": "U5pV6ydlqZx1"
   },
   "source": [
    "## 2. Processor related commands\n",
    "- Check if GPU is available by running the cell below\n"
   ]
  },
  {
   "cell_type": "code",
   "execution_count": null,
   "metadata": {
    "id": "4xGalKejA16s"
   },
   "outputs": [],
   "source": [
    "import torch \n",
    "\n",
    "if torch.cuda.is_available():\n",
    "  device = torch.device(\"cuda:0\")\n",
    "  print(\"GPU\")\n",
    "else:\n",
    "  device = torch.device(\"cpu\")\n",
    "  print(\"CPU\")"
   ]
  },
  {
   "cell_type": "markdown",
   "metadata": {
    "id": "yUpIcdlsHzy5"
   },
   "source": [
    "### Get further info on processor"
   ]
  },
  {
   "cell_type": "code",
   "execution_count": null,
   "metadata": {
    "id": "OmhRPrYGqcmN"
   },
   "outputs": [],
   "source": [
    "# Gets CPU info on the virtual machine\n",
    "!cat /proc/cpuinfo | grep 'processor\\|model name\\|cpu cores'"
   ]
  },
  {
   "cell_type": "code",
   "execution_count": null,
   "metadata": {
    "id": "XOmSNuWwrkcC"
   },
   "outputs": [],
   "source": [
    "# Get GPU inf on the virtual machine\n",
    "!nvidia-smi"
   ]
  },
  {
   "cell_type": "markdown",
   "metadata": {
    "id": "ItROy1R8REuc"
   },
   "source": [
    "## REPEAT the last three cells\n",
    "- After running the 3 code cells, click ``Runtime-->Change runtime type-->GPU``\n",
    "and rerun them now. Do you see different outcomes now?\n"
   ]
  },
  {
   "cell_type": "markdown",
   "metadata": {
    "id": "8aT_gMRHrq3d"
   },
   "source": [
    "## 3. Python related command lines"
   ]
  },
  {
   "cell_type": "code",
   "execution_count": null,
   "metadata": {
    "id": "u3JfM2uTrtMG"
   },
   "outputs": [],
   "source": [
    "!python --version"
   ]
  },
  {
   "cell_type": "markdown",
   "metadata": {
    "id": "CymsZ07DIuVm"
   },
   "source": [
    "To import a library that's not in Colaboratory by default, you can use ``!pip install`` or ``!apt-get install``"
   ]
  },
  {
   "cell_type": "code",
   "execution_count": null,
   "metadata": {
    "id": "1JdYDQKKykOr"
   },
   "outputs": [],
   "source": [
    "!pip install matplotlib-venn"
   ]
  },
  {
   "cell_type": "markdown",
   "metadata": {
    "id": "J20YG87GJV3g"
   },
   "source": [
    "Show information about one or more installed packages."
   ]
  },
  {
   "cell_type": "code",
   "execution_count": null,
   "metadata": {
    "id": "s5_iAgf7N94T"
   },
   "outputs": [],
   "source": [
    "!pip show torch"
   ]
  },
  {
   "cell_type": "markdown",
   "metadata": {
    "id": "IKWOJQLTXIQ8"
   },
   "source": [
    "Python printing"
   ]
  },
  {
   "cell_type": "code",
   "execution_count": null,
   "metadata": {
    "id": "DVXzSNaKXKPT"
   },
   "outputs": [],
   "source": [
    "print('This is a sample sentence')"
   ]
  },
  {
   "cell_type": "code",
   "execution_count": null,
   "metadata": {
    "id": "douHW9-zXOQh"
   },
   "outputs": [],
   "source": [
    "x = 5\n",
    "\n",
    "print(f\"The value of x is {x}\")"
   ]
  },
  {
   "cell_type": "markdown",
   "metadata": {
    "id": "NWqLlhQVye3M"
   },
   "source": [
    "## 4. Working with Files\n",
    "- Mount Drive onto the runtime machine so that you can load files from Drive to your runtime\n",
    "- NOTE: You will most likely be asked for an authorisation code, click on the link and copy the code over\n",
    "- ~~You could also mount Drive by clicking on on the Mount Drive button on the left panel~~\n"
   ]
  },
  {
   "cell_type": "code",
   "execution_count": null,
   "metadata": {
    "id": "7KLsNoohr9VJ"
   },
   "outputs": [],
   "source": [
    "from google.colab import drive\n",
    "drive.mount('/content/gdrive', force_remount=True)"
   ]
  },
  {
   "cell_type": "markdown",
   "metadata": {
    "id": "kXnCR2PNsq7V"
   },
   "source": [
    "### If you click on the \"Folder\" image on the left, you should see an additional folder \"gdrive\"\n",
    "- List content of mounted drive"
   ]
  },
  {
   "cell_type": "code",
   "execution_count": null,
   "metadata": {
    "id": "yJW-WuQGsysS"
   },
   "outputs": [],
   "source": [
    "!ls '/content/gdrive'"
   ]
  },
  {
   "cell_type": "markdown",
   "metadata": {
    "id": "Jr0reMsvOU2g"
   },
   "source": [
    "### What about loading files from your local machine?\n",
    "- Run the code below, you should be able to choose one or more files to be uploaded to the runtime\n",
    "- Press 'Choose files' and select the file(s) that you want to upload\n",
    "- Verify by seeing the runtime's folder content on the left"
   ]
  },
  {
   "cell_type": "code",
   "execution_count": null,
   "metadata": {
    "id": "vz-jH8T_Uk2c"
   },
   "outputs": [],
   "source": [
    "from google.colab import files\n",
    "\n",
    "uploaded = files.upload()\n",
    "\n",
    "for fn in uploaded.keys():\n",
    "  print('User uploaded file \"{name}\" with length {length} bytes'.format(\n",
    "      name=fn, length=len(uploaded[fn])))\n",
    "  "
   ]
  },
  {
   "cell_type": "markdown",
   "metadata": {
    "id": "UD7qI6FoPChO"
   },
   "source": [
    "## Downloading files from runtime to the local machine\n",
    "- Create a new file (or overwrite an existing file) on runtime and download it to local\n",
    "- <code>files.download</code> will invoke a browser download of the file to your local computer.\n"
   ]
  },
  {
   "cell_type": "code",
   "execution_count": null,
   "metadata": {
    "id": "7mFMQUHHPKq5"
   },
   "outputs": [],
   "source": [
    "from google.colab import files\n",
    "\n",
    "# Select the file from the runtime to local\n",
    "with open('example.txt', 'w') as f:\n",
    "  f.write('This is a simple file with one line of text.')\n",
    "  f.close()\n",
    "\n",
    "files.download('example.txt')"
   ]
  },
  {
   "cell_type": "markdown",
   "metadata": {
    "id": "I5bnbYXqXzCq"
   },
   "source": [
    "Download an existing file from runtime to local"
   ]
  },
  {
   "cell_type": "code",
   "execution_count": null,
   "metadata": {
    "id": "QbzVjNHwXBEm"
   },
   "outputs": [],
   "source": [
    "# Existing file on runtime to local\n",
    "open('sample_data/README.md', 'r')\n",
    "\n",
    "files.download('sample_data/README.md')"
   ]
  },
  {
   "cell_type": "markdown",
   "metadata": {
    "id": "L2w4FtauYNvO"
   },
   "source": [
    "# 5. Working with images\n",
    "### Upload file from mounted folder and view it\n",
    "- Import PIL (Python Imaging Library) for image manipulation\n",
    "- Import matplotlib for visualisation\n",
    "- Save an image file (png or jpg in a folder in Drive)\n",
    "- Make sure Drive is mounted to the runtime after the image is saved\n",
    "- Open the file using Image.open()\n",
    "- Display the image"
   ]
  },
  {
   "cell_type": "code",
   "execution_count": null,
   "metadata": {
    "id": "5A8lyqVcvKNX"
   },
   "outputs": [],
   "source": [
    "from PIL import Image\n",
    "import matplotlib.pyplot as plt\n",
    "\n",
    "# 1. Locate the file in Drive and open it\n",
    "img = Image.open(\"gdrive/MyDrive/DL/two_small.png\") # TODO: replace this with a path to an image in your own Drive\n",
    "\n",
    "plt.imshow(img)\n"
   ]
  }
 ],
 "metadata": {
  "accelerator": "GPU",
  "colab": {
   "collapsed_sections": [],
   "name": "lab01-colab-basics.ipynb",
   "provenance": []
  },
  "kernelspec": {
   "display_name": "Python 3",
   "language": "python",
   "name": "python3"
  },
  "language_info": {
   "codemirror_mode": {
    "name": "ipython",
    "version": 3
   },
   "file_extension": ".py",
   "mimetype": "text/x-python",
   "name": "python",
   "nbconvert_exporter": "python",
   "pygments_lexer": "ipython3",
   "version": "3.8.8"
  }
 },
 "nbformat": 4,
 "nbformat_minor": 1
}
